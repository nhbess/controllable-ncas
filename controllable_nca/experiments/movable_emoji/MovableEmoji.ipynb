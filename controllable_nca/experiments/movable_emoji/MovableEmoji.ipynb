{
 "cells": [
  {
   "cell_type": "markdown",
   "id": "3b91a0b5-20ed-4f4e-b38d-4e7f4fa98476",
   "metadata": {},
   "source": [
    "# Movable Emojis"
   ]
  },
  {
   "cell_type": "markdown",
   "id": "ceb3e62e-6781-4b1e-b76c-08cb8b3f4c90",
   "metadata": {},
   "source": [
    "### Logging Utils"
   ]
  },
  {
   "cell_type": "code",
   "execution_count": 1,
   "id": "6278bd75-84a4-42f3-9be3-76c0ce3c88c2",
   "metadata": {},
   "outputs": [],
   "source": [
    "import matplotlib.pyplot as plt\n",
    "import torch\n",
    "from einops import rearrange\n",
    "from controllable_nca.utils import load_emoji, rgb\n",
    "\n",
    "def plot_img(img):\n",
    "    with torch.no_grad():\n",
    "        rgb_image = rgb(img, False).squeeze().detach().cpu().numpy()\n",
    "    rgb_image = rearrange(rgb_image, \"c w h -> w h c\")\n",
    "    _ = plt.imshow(rgb_image)\n",
    "    plt.show()\n"
   ]
  },
  {
   "cell_type": "markdown",
   "id": "ad1da83f-e282-4cce-8225-03e82fbdaebd",
   "metadata": {},
   "source": [
    "## Imports"
   ]
  },
  {
   "cell_type": "code",
   "execution_count": 2,
   "id": "d13118a5-38f6-424a-ba39-0426056580fa",
   "metadata": {},
   "outputs": [],
   "source": [
    "from controllable_nca.experiments.movable_emoji.movable_emoji_dataset import MovableEmojiDataset\n",
    "from controllable_nca.experiments.movable_emoji.trainer import MovableEmojiNCATrainer\n",
    "from controllable_nca.nca import ControllableNCA"
   ]
  },
  {
   "cell_type": "markdown",
   "id": "a8e97283-ce6f-42b8-9172-95e464be2bc7",
   "metadata": {},
   "source": [
    "### Load Dataset"
   ]
  },
  {
   "cell_type": "code",
   "execution_count": 3,
   "id": "11225cfc-95d7-4c7a-8f88-c7e1107ccc4e",
   "metadata": {},
   "outputs": [],
   "source": [
    "dataset = MovableEmojiDataset()"
   ]
  },
  {
   "cell_type": "code",
   "execution_count": 4,
   "id": "f45e485a-62b8-46cf-a734-052b61834ec0",
   "metadata": {},
   "outputs": [
    {
     "data": {
      "image/png": "[encoded data removed]",
      "text/plain": [
       "<Figure size 432x288 with 1 Axes>"
      ]
     },
     "metadata": {
      "needs_background": "light"
     },
     "output_type": "display_data"
    }
   ],
   "source": [
    "dataset.visualize(32, 32)"
   ]
  },
  {
   "cell_type": "code",
   "execution_count": 5,
   "id": "ec46b2c2-223e-4271-8eac-2a6615373ce7",
   "metadata": {},
   "outputs": [
    {
     "data": {
      "image/png": "[encoded data removed]",
      "text/plain": [
       "<Figure size 432x288 with 1 Axes>"
      ]
     },
     "metadata": {
      "needs_background": "light"
     },
     "output_type": "display_data"
    }
   ],
   "source": [
    "dataset.visualize(48, 48)"
   ]
  },
  {
   "cell_type": "code",
   "execution_count": 7,
   "id": "ed9c0023-fa58-49c4-b3fe-26f21a0b48d7",
   "metadata": {},
   "outputs": [],
   "source": [
    "NUM_HIDDEN_CHANNELS = 32\n",
    "\n",
    "nca =  ControllableNCA(num_goals=dataset.num_goals(), target_shape=dataset.target_size(), living_channel_dim=3, num_hidden_channels=NUM_HIDDEN_CHANNELS, cell_fire_rate=1.0)"
   ]
  },
  {
   "cell_type": "code",
   "execution_count": 8,
   "id": "5d04987c-c986-44af-8032-34d543ff9553",
   "metadata": {},
   "outputs": [],
   "source": [
    "device = torch.device('cuda')\n",
    "nca = nca.to(device)\n",
    "dataset.to(device)"
   ]
  },
  {
   "cell_type": "code",
   "execution_count": 10,
   "id": "e76a2526-bc32-491a-a96b-c37392b77611",
   "metadata": {},
   "outputs": [
    {
     "name": "stdout",
     "output_type": "stream",
     "text": [
      "Writing to tensorboard_logs/2022-02-18 13:02:51.124102\n"
     ]
    }
   ],
   "source": [
    "trainer = MovableEmojiNCATrainer(nca, dataset, nca_steps=[48, 64], lr=1e-3, num_damaged=0, damage_radius=3, device=device, pool_size=1024)"
   ]
  },
  {
   "cell_type": "code",
   "execution_count": null,
   "id": "6183288a-9272-4cf8-aa35-faab3586a047",
   "metadata": {},
   "outputs": [],
   "source": [
    "# trainer.train(batch_size=24, epochs=100000)"
   ]
  },
  {
   "cell_type": "code",
   "execution_count": 11,
   "id": "97b92c2a-c8f5-4c53-9596-3e2e159f8a91",
   "metadata": {},
   "outputs": [],
   "source": [
    "from threading import Event, Thread\n",
    "\n",
    "import cv2\n",
    "import numpy as np\n",
    "import torch\n",
    "from einops import rearrange\n",
    "from ipycanvas import Canvas, hold_canvas  # noqa\n",
    "from ipywidgets import Button, HBox, VBox\n",
    "\n",
    "from controllable_nca.utils import create_2d_circular_mask, rgb\n",
    "\n",
    "\n",
    "def to_numpy_rgb(x, use_rgb=False):\n",
    "    return rearrange(\n",
    "        np.squeeze(rgb(x, use_rgb).detach().cpu().numpy()), \"c x y -> x y c\"\n",
    "    )\n",
    "\n",
    "\n",
    "class ControllableNCAImageVisualizer:\n",
    "    def __init__(\n",
    "        self,\n",
    "        trainer,\n",
    "        image_size,\n",
    "        rgb: bool = False,\n",
    "        canvas_scale=5,\n",
    "        damage_radius: int = 5,\n",
    "    ):\n",
    "        self.trainer = trainer\n",
    "        self.current_state = None\n",
    "        self.current_embedding = None\n",
    "\n",
    "        self.image_size = image_size\n",
    "        self.rgb = rgb\n",
    "        self.canvas_scale = canvas_scale\n",
    "        self.canvas_size = self.image_size * self.canvas_scale\n",
    "\n",
    "        self.canvas = Canvas(width=self.canvas_size, height=self.canvas_size)\n",
    "        self.canvas.on_mouse_down(self.handle_mouse_down)\n",
    "        self.stopped = Event()\n",
    "\n",
    "        x = self.trainer.target_dataset.x\n",
    "        # with torch.no_grad():\n",
    "        #     self.embeddings = self.trainer.target_dataset.one_hot\n",
    "        self.current_embedding = self.trainer.nca.encoder(torch.tensor(0, device=self.trainer.device))\n",
    "\n",
    "        self.device = self.trainer.device\n",
    "        self.damage_radius = damage_radius\n",
    "        self.current_state = self.trainer.nca.generate_seed(1).to(self.device)\n",
    "        \n",
    "        def button_fn(class_num):\n",
    "            def start(btn):\n",
    "                self.current_embedding = self.trainer.nca.encoder(torch.tensor(class_num, device=self.trainer.device))\n",
    "                if self.stopped.isSet():\n",
    "                    self.stopped.clear()\n",
    "                    Thread(target=self.loop).start()\n",
    "\n",
    "            return start\n",
    "\n",
    "        button_list = []\n",
    "        for i in range(5):\n",
    "            button_list.append(Button(description=\"{}\".format(i)))\n",
    "            button_list[-1].on_click(button_fn(i))\n",
    "\n",
    "        self.vbox = VBox(button_list)\n",
    "\n",
    "        self.stop_btn = Button(description=\"Stop\")\n",
    "\n",
    "        def stop(btn):\n",
    "            if not self.stopped.isSet():\n",
    "                self.stopped.set()\n",
    "\n",
    "        self.stop_btn.on_click(stop)\n",
    "\n",
    "    def handle_mouse_down(self, xpos, ypos):\n",
    "        in_x = int(xpos / self.canvas_scale)\n",
    "        in_y = int(ypos / self.canvas_scale)\n",
    "\n",
    "        mask = create_2d_circular_mask(\n",
    "            self.image_size,\n",
    "            self.image_size,\n",
    "            (in_x, in_y),\n",
    "            radius=self.damage_radius,\n",
    "        )\n",
    "        self.current_state[0][:, mask] *= 0.0\n",
    "\n",
    "    def draw_image(self, rgb):\n",
    "        with hold_canvas(self.canvas):\n",
    "            rgb = np.squeeze(rearrange(rgb, \"b c w h -> b w h c\"))\n",
    "            self.canvas.clear()  # Clear the old animation step\n",
    "            self.canvas.put_image_data(\n",
    "                cv2.resize(\n",
    "                    rgb * 255.0,\n",
    "                    (self.canvas_size, self.canvas_size),\n",
    "                    interpolation=cv2.INTER_NEAREST,\n",
    "                ),\n",
    "                0,\n",
    "                0,\n",
    "            )\n",
    "\n",
    "    def loop(self):\n",
    "        with torch.no_grad():\n",
    "            self.current_state = self.trainer.nca.generate_seed(1).to(self.device)\n",
    "            while not self.stopped.wait(0.02):  # the first call is in `interval` secs\n",
    "                # update_particle_locations()\n",
    "                self.draw_image(self.trainer.to_rgb(self.current_state))\n",
    "                self.current_state = self.trainer.nca.grow(\n",
    "                    self.current_state, 1, self.current_embedding\n",
    "                )\n",
    "\n",
    "    def visualize(self):\n",
    "        Thread(target=self.loop).start()\n",
    "        display(self.canvas, HBox([self.stop_btn, self.vbox]))  # noqa\n"
   ]
  },
  {
   "cell_type": "code",
   "execution_count": 12,
   "id": "161a3caa-76ca-4d90-b71b-a5a1f714840b",
   "metadata": {},
   "outputs": [],
   "source": [
    "nca.load(\"/home/kokkgoblin/Code/controllable-ncas/examples/newest.pt\")"
   ]
  },
  {
   "cell_type": "code",
   "execution_count": 13,
   "id": "300e540f-a7a0-493d-a9d6-739266fd341a",
   "metadata": {},
   "outputs": [],
   "source": [
    "viz = ControllableNCAImageVisualizer(trainer, 64)"
   ]
  },
  {
   "cell_type": "code",
   "execution_count": 14,
   "id": "52d759d0-3380-4a86-9470-aaffb35ae877",
   "metadata": {},
   "outputs": [
    {
     "data": {
      "application/vnd.jupyter.widget-view+json": {
       "model_id": "20e12b026aba4f26baae84575f2215b7",
       "version_major": 2,
       "version_minor": 0
      },
      "text/plain": [
       "Canvas(height=320, width=320)"
      ]
     },
     "metadata": {},
     "output_type": "display_data"
    },
    {
     "data": {
      "application/vnd.jupyter.widget-view+json": {
       "model_id": "cf0c35f6de284b319d6505d624006cf8",
       "version_major": 2,
       "version_minor": 0
      },
      "text/plain": [
       "HBox(children=(Button(description='Stop', style=ButtonStyle()), VBox(children=(Button(description='0', style=B…"
      ]
     },
     "metadata": {},
     "output_type": "display_data"
    }
   ],
   "source": [
    "viz.visualize()"
   ]
  }
 ],
 "metadata": {
  "kernelspec": {
   "display_name": "Python [conda env:torch_nca] *",
   "language": "python",
   "name": "conda-env-torch_nca-py"
  },
  "language_info": {
   "codemirror_mode": {
    "name": "ipython",
    "version": 3
   },
   "file_extension": ".py",
   "mimetype": "text/x-python",
   "name": "python",
   "nbconvert_exporter": "python",
   "pygments_lexer": "ipython3",
   "version": "3.8.0"
  }
 },
 "nbformat": 4,
 "nbformat_minor": 5
}
