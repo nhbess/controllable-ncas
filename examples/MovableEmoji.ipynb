{
 "cells": [
  {
   "cell_type": "markdown",
   "id": "3b91a0b5-20ed-4f4e-b38d-4e7f4fa98476",
   "metadata": {},
   "source": [
    "# Movable Emojis"
   ]
  },
  {
   "cell_type": "markdown",
   "id": "ad1da83f-e282-4cce-8225-03e82fbdaebd",
   "metadata": {},
   "source": [
    "## Imports"
   ]
  },
  {
   "cell_type": "code",
   "execution_count": 1,
   "id": "d13118a5-38f6-424a-ba39-0426056580fa",
   "metadata": {},
   "outputs": [],
   "source": [
    "from controllable_nca.experiments.movable_emoji.movable_emoji_dataset import MovableEmojiDataset\n",
    "from controllable_nca.experiments.movable_emoji.trainer import MovableEmojiNCATrainer\n",
    "from controllable_nca.nca import ControllableNCA\n",
    "import torch"
   ]
  },
  {
   "cell_type": "markdown",
   "id": "a8e97283-ce6f-42b8-9172-95e464be2bc7",
   "metadata": {},
   "source": [
    "### Load Dataset"
   ]
  },
  {
   "cell_type": "code",
   "execution_count": 2,
   "id": "11225cfc-95d7-4c7a-8f88-c7e1107ccc4e",
   "metadata": {},
   "outputs": [],
   "source": [
    "dataset = MovableEmojiDataset(grid_size=64, image_size=32)"
   ]
  },
  {
   "cell_type": "code",
   "execution_count": 3,
   "id": "f45e485a-62b8-46cf-a734-052b61834ec0",
   "metadata": {},
   "outputs": [
    {
     "data": {
      "image/png": "[encoded data removed]",
      "text/plain": [
       "<Figure size 432x288 with 1 Axes>"
      ]
     },
     "metadata": {
      "needs_background": "light"
     },
     "output_type": "display_data"
    }
   ],
   "source": [
    "dataset.visualize(32, 32)"
   ]
  },
  {
   "cell_type": "code",
   "execution_count": 4,
   "id": "ec46b2c2-223e-4271-8eac-2a6615373ce7",
   "metadata": {},
   "outputs": [
    {
     "data": {
      "image/png": "[encoded data removed]",
      "text/plain": [
       "<Figure size 432x288 with 1 Axes>"
      ]
     },
     "metadata": {
      "needs_background": "light"
     },
     "output_type": "display_data"
    }
   ],
   "source": [
    "dataset.visualize(48, 48)"
   ]
  },
  {
   "cell_type": "markdown",
   "id": "42b665a9-4c7f-4eb5-98a7-146b00e301b5",
   "metadata": {},
   "source": [
    "### Make NCA"
   ]
  },
  {
   "cell_type": "code",
   "execution_count": 5,
   "id": "ed9c0023-fa58-49c4-b3fe-26f21a0b48d7",
   "metadata": {},
   "outputs": [],
   "source": [
    "NUM_HIDDEN_CHANNELS = 32\n",
    "\n",
    "nca =  ControllableNCA(num_goals=dataset.num_goals(), target_shape=dataset.target_size(), living_channel_dim=3, num_hidden_channels=NUM_HIDDEN_CHANNELS, cell_fire_rate=0.5)"
   ]
  },
  {
   "cell_type": "code",
   "execution_count": 6,
   "id": "5d04987c-c986-44af-8032-34d543ff9553",
   "metadata": {},
   "outputs": [],
   "source": [
    "device = torch.device('cuda')\n",
    "nca = nca.to(device)\n",
    "dataset.to(device)"
   ]
  },
  {
   "cell_type": "markdown",
   "id": "d1765c02-b2be-4087-bc5e-8c05a4e11493",
   "metadata": {},
   "source": [
    "### Make Trainer"
   ]
  },
  {
   "cell_type": "code",
   "execution_count": 12,
   "id": "e76a2526-bc32-491a-a96b-c37392b77611",
   "metadata": {},
   "outputs": [
    {
     "name": "stdout",
     "output_type": "stream",
     "text": [
      "Writing to tensorboard_logs/2022-02-20 09:25:58.227535\n"
     ]
    }
   ],
   "source": [
    "trainer = MovableEmojiNCATrainer(nca, dataset, nca_steps=[48, 64], lr=1e-3, num_damaged=0, damage_radius=3, device=device, pool_size=256)"
   ]
  },
  {
   "cell_type": "code",
   "execution_count": 13,
   "id": "6183288a-9272-4cf8-aa35-faab3586a047",
   "metadata": {},
   "outputs": [
    {
     "name": "stderr",
     "output_type": "stream",
     "text": [
      "loss:0.02163780853152275--log10loss:-1.6647867265073057--perception_net.weight_g\n"
     ]
    },
    {
     "ename": "KeyboardInterrupt",
     "evalue": "",
     "output_type": "error",
     "traceback": [
      "\u001b[0;31m---------------------------------------------------------------------------\u001b[0m",
      "\u001b[0;31mKeyboardInterrupt\u001b[0m                         Traceback (most recent call last)",
      "\u001b[0;32m/tmp/ipykernel_18669/3731496291.py\u001b[0m in \u001b[0;36m<module>\u001b[0;34m\u001b[0m\n\u001b[0;32m----> 1\u001b[0;31m \u001b[0mtrainer\u001b[0m\u001b[0;34m.\u001b[0m\u001b[0mtrain\u001b[0m\u001b[0;34m(\u001b[0m\u001b[0mbatch_size\u001b[0m\u001b[0;34m=\u001b[0m\u001b[0;36m8\u001b[0m\u001b[0;34m,\u001b[0m \u001b[0mepochs\u001b[0m\u001b[0;34m=\u001b[0m\u001b[0;36m100000\u001b[0m\u001b[0;34m)\u001b[0m\u001b[0;34m\u001b[0m\u001b[0;34m\u001b[0m\u001b[0m\n\u001b[0m",
      "\u001b[0;32m~/miniconda3/envs/torch_nca/lib/python3.8/site-packages/controllable_nca-0.1.0-py3.8.egg/controllable_nca/experiments/movable_emoji/trainer.py\u001b[0m in \u001b[0;36mtrain\u001b[0;34m(self, batch_size, epochs)\u001b[0m\n\u001b[1;32m    180\u001b[0m                 \u001b[0mloss\u001b[0m\u001b[0;34m,\u001b[0m\u001b[0;34m\u001b[0m\u001b[0;34m\u001b[0m\u001b[0m\n\u001b[1;32m    181\u001b[0m                 \u001b[0mmetrics\u001b[0m\u001b[0;34m,\u001b[0m\u001b[0;34m\u001b[0m\u001b[0;34m\u001b[0m\u001b[0m\n\u001b[0;32m--> 182\u001b[0;31m             ) = self.train_batch(new_batch, directions, self.max_steps // 2)\n\u001b[0m\u001b[1;32m    183\u001b[0m \u001b[0;34m\u001b[0m\u001b[0m\n\u001b[1;32m    184\u001b[0m             \u001b[0;31m# take more steps\u001b[0m\u001b[0;34m\u001b[0m\u001b[0;34m\u001b[0m\u001b[0;34m\u001b[0m\u001b[0m\n",
      "\u001b[0;32m~/miniconda3/envs/torch_nca/lib/python3.8/site-packages/controllable_nca-0.1.0-py3.8.egg/controllable_nca/experiments/movable_emoji/trainer.py\u001b[0m in \u001b[0;36mtrain_batch\u001b[0;34m(self, batch, directions, num_steps)\u001b[0m\n\u001b[1;32m    143\u001b[0m         \u001b[0;32mfor\u001b[0m \u001b[0mn\u001b[0m\u001b[0;34m,\u001b[0m \u001b[0mW\u001b[0m \u001b[0;32min\u001b[0m \u001b[0mself\u001b[0m\u001b[0;34m.\u001b[0m\u001b[0mnca\u001b[0m\u001b[0;34m.\u001b[0m\u001b[0mnamed_parameters\u001b[0m\u001b[0;34m(\u001b[0m\u001b[0;34m)\u001b[0m\u001b[0;34m:\u001b[0m\u001b[0;34m\u001b[0m\u001b[0;34m\u001b[0m\u001b[0m\n\u001b[1;32m    144\u001b[0m             \u001b[0;32mif\u001b[0m \u001b[0mW\u001b[0m\u001b[0;34m.\u001b[0m\u001b[0mgrad\u001b[0m \u001b[0;32mis\u001b[0m \u001b[0;32mnot\u001b[0m \u001b[0;32mNone\u001b[0m\u001b[0;34m:\u001b[0m\u001b[0;34m\u001b[0m\u001b[0;34m\u001b[0m\u001b[0m\n\u001b[0;32m--> 145\u001b[0;31m                 \u001b[0mgrad_dict\u001b[0m\u001b[0;34m[\u001b[0m\u001b[0;34m\"{}_grad\"\u001b[0m\u001b[0;34m.\u001b[0m\u001b[0mformat\u001b[0m\u001b[0;34m(\u001b[0m\u001b[0mn\u001b[0m\u001b[0;34m)\u001b[0m\u001b[0;34m]\u001b[0m \u001b[0;34m=\u001b[0m \u001b[0mfloat\u001b[0m\u001b[0;34m(\u001b[0m\u001b[0mtorch\u001b[0m\u001b[0;34m.\u001b[0m\u001b[0msum\u001b[0m\u001b[0;34m(\u001b[0m\u001b[0mW\u001b[0m\u001b[0;34m.\u001b[0m\u001b[0mgrad\u001b[0m\u001b[0;34m)\u001b[0m\u001b[0;34m.\u001b[0m\u001b[0mitem\u001b[0m\u001b[0;34m(\u001b[0m\u001b[0;34m)\u001b[0m\u001b[0;34m)\u001b[0m\u001b[0;34m\u001b[0m\u001b[0;34m\u001b[0m\u001b[0m\n\u001b[0m\u001b[1;32m    146\u001b[0m \u001b[0;34m\u001b[0m\u001b[0m\n\u001b[1;32m    147\u001b[0m         return (\n",
      "\u001b[0;31mKeyboardInterrupt\u001b[0m: "
     ]
    }
   ],
   "source": [
    "trainer.train(batch_size=18, epochs=100000)"
   ]
  },
  {
   "cell_type": "markdown",
   "id": "493b6cab-76c2-4b3b-8267-18fb81ede35e",
   "metadata": {},
   "source": [
    "## Visualizer"
   ]
  },
  {
   "cell_type": "code",
   "execution_count": 9,
   "id": "cac75a26-48ef-4973-93f0-2f55c58a4113",
   "metadata": {},
   "outputs": [],
   "source": [
    "from controllable_nca.experiments.movable_emoji.visualizer import MovableEmojiVisualizer"
   ]
  },
  {
   "cell_type": "markdown",
   "id": "763491d9-21c2-4fce-86dd-5a104c4251e2",
   "metadata": {},
   "source": [
    "#### load pretrained nca"
   ]
  },
  {
   "cell_type": "code",
   "execution_count": null,
   "id": "161a3caa-76ca-4d90-b71b-a5a1f714840b",
   "metadata": {},
   "outputs": [],
   "source": [
    "# nca.load(\"/home/kokkgoblin/Code/controllable-ncas/examples/saved_models/movable_salamander.pt\")"
   ]
  },
  {
   "cell_type": "code",
   "execution_count": 10,
   "id": "300e540f-a7a0-493d-a9d6-739266fd341a",
   "metadata": {},
   "outputs": [],
   "source": [
    "viz = MovableEmojiVisualizer(trainer, 64)"
   ]
  },
  {
   "cell_type": "code",
   "execution_count": 11,
   "id": "52d759d0-3380-4a86-9470-aaffb35ae877",
   "metadata": {},
   "outputs": [
    {
     "data": {
      "application/vnd.jupyter.widget-view+json": {
       "model_id": "5875c74a82d84bff9c96c429135e3294",
       "version_major": 2,
       "version_minor": 0
      },
      "text/plain": [
       "Canvas(height=320, width=320)"
      ]
     },
     "metadata": {},
     "output_type": "display_data"
    },
    {
     "data": {
      "application/vnd.jupyter.widget-view+json": {
       "model_id": "24c0a45a2e3c486a8080dd90039682ea",
       "version_major": 2,
       "version_minor": 0
      },
      "text/plain": [
       "HBox(children=(Button(description='Stop', style=ButtonStyle()), VBox(children=(Button(description='0', style=B…"
      ]
     },
     "metadata": {},
     "output_type": "display_data"
    }
   ],
   "source": [
    "viz.visualize()"
   ]
  }
 ],
 "metadata": {
  "kernelspec": {
   "display_name": "Python [conda env:torch_nca] *",
   "language": "python",
   "name": "conda-env-torch_nca-py"
  },
  "language_info": {
   "codemirror_mode": {
    "name": "ipython",
    "version": 3
   },
   "file_extension": ".py",
   "mimetype": "text/x-python",
   "name": "python",
   "nbconvert_exporter": "python",
   "pygments_lexer": "ipython3",
   "version": "3.8.0"
  }
 },
 "nbformat": 4,
 "nbformat_minor": 5
}
