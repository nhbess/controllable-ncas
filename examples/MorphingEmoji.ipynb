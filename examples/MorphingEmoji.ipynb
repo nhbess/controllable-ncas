{
 "cells": [
  {
   "cell_type": "markdown",
   "id": "d7d6c646-8608-4d2b-ad90-8ea4b3745f4c",
   "metadata": {},
   "source": [
    "# Morphing Emojis"
   ]
  },
  {
   "cell_type": "code",
   "execution_count": 1,
   "id": "a3e435ff-e7ec-47f2-9476-679e5699c4f5",
   "metadata": {},
   "outputs": [],
   "source": [
    "from controllable_nca.experiments.morphing_image.trainer import MorphingImageNCATrainer\n",
    "from controllable_nca.experiments.morphing_image.emoji_dataset import EmojiDataset\n",
    "from controllable_nca.nca import ControllableNCA\n",
    "\n",
    "import torch"
   ]
  },
  {
   "cell_type": "code",
   "execution_count": 2,
   "id": "c90c54c0-ac1d-4641-b9d9-ba1d36586434",
   "metadata": {},
   "outputs": [],
   "source": [
    "import matplotlib.pyplot as plt\n",
    "import torch\n",
    "from einops import rearrange\n",
    "\n",
    "from controllable_nca.dataset import NCADataset\n",
    "from controllable_nca.utils import load_emoji, rgb\n",
    "\n",
    "\n",
    "class EmojiDataset(NCADataset):\n",
    "    # EMOJI = '🦎😀💥'\n",
    "    EMOJI = \"🦎😀💥👁🐠🦋🐞🕸🥨🎄\"\n",
    "    # EMOJI = \"🦎😀👁🕸🥨🎄\"\n",
    "\n",
    "    digits = [\n",
    "        \"0030\",  # 0\n",
    "        \"0031\",  # 1\n",
    "        \"0032\",  # 2\n",
    "        \"0033\",  # 3\n",
    "        \"0034\",  # 4\n",
    "        \"0035\",  # 5\n",
    "        \"0036\",  # 6\n",
    "        \"0037\",  # 7\n",
    "        \"0038\",  # 8\n",
    "        \"0039\",  # 9\n",
    "    ]\n",
    "\n",
    "    def __init__(self, image_size=64, thumbnail_size=32, use_one_hot: bool = False):\n",
    "        emojis = torch.stack(\n",
    "            [load_emoji(e, image_size, thumbnail_size) for e in EmojiDataset.EMOJI],\n",
    "            dim=0,\n",
    "        )\n",
    "        self.emojis = emojis\n",
    "        self.num_samples = len(self)\n",
    "        self._target_size = self.emojis.size()[-3:]\n",
    "\n",
    "    def num_goals(self):\n",
    "        return self.emojis.size(0)\n",
    "\n",
    "    def __getitem__(self, idx):\n",
    "        if isinstance(idx, int):\n",
    "            return self.emojis[idx : idx + 1].clone(), idx\n",
    "        return self.emojis[idx].clone(), idx\n",
    "\n",
    "    def __len__(self):\n",
    "        return self.emojis.size(0)\n",
    "\n",
    "    def target_size(self):\n",
    "        if self._target_size is not None:\n",
    "            return self._target_size\n",
    "        self._target_size = self.emojis.size()[-3:]\n",
    "        return self._target_size\n",
    "\n",
    "    def to(self, device: torch.device):\n",
    "        self.emojis = self.emojis.to(device)\n",
    "\n",
    "    def visualize(self, idx=0):\n",
    "        self.plot_img(self.emojis[idx : idx + 1])\n",
    "\n",
    "    def plot_img(self, img):\n",
    "        with torch.no_grad():\n",
    "            rgb_image = rgb(img, False).squeeze().detach().cpu().numpy()\n",
    "        rgb_image = rearrange(rgb_image, \"c w h -> w h c\")\n",
    "        _ = plt.imshow(rgb_image)\n",
    "        plt.show()\n"
   ]
  },
  {
   "cell_type": "code",
   "execution_count": 3,
   "id": "d588342d-77bb-4c2d-939c-9c9f6c127eee",
   "metadata": {},
   "outputs": [],
   "source": [
    "dataset = EmojiDataset(image_size=64, thumbnail_size=32)"
   ]
  },
  {
   "cell_type": "code",
   "execution_count": 4,
   "id": "5ef4e59a-658a-4781-9bf4-ce7f485eed82",
   "metadata": {},
   "outputs": [
    {
     "data": {
      "image/png": "[encoded data removed]",
      "text/plain": [
       "<Figure size 432x288 with 1 Axes>"
      ]
     },
     "metadata": {
      "needs_background": "light"
     },
     "output_type": "display_data"
    }
   ],
   "source": [
    "dataset.visualize(0)"
   ]
  },
  {
   "cell_type": "code",
   "execution_count": 5,
   "id": "f60427a6-e940-4c95-9710-06c015887f32",
   "metadata": {},
   "outputs": [
    {
     "data": {
      "image/png": "[encoded data removed]",
      "text/plain": [
       "<Figure size 432x288 with 1 Axes>"
      ]
     },
     "metadata": {
      "needs_background": "light"
     },
     "output_type": "display_data"
    }
   ],
   "source": [
    "dataset.visualize(1)"
   ]
  },
  {
   "cell_type": "markdown",
   "id": "a9aeedb4-b929-465e-8713-9577c7453c8b",
   "metadata": {},
   "source": [
    "### Make NCA"
   ]
  },
  {
   "cell_type": "code",
   "execution_count": 6,
   "id": "73cbd2e5-08b9-4e56-bc61-25c05dfc6480",
   "metadata": {},
   "outputs": [
    {
     "data": {
      "text/plain": [
       "torch.Size([4, 64, 64])"
      ]
     },
     "execution_count": 6,
     "metadata": {},
     "output_type": "execute_result"
    }
   ],
   "source": [
    "dataset.target_size()"
   ]
  },
  {
   "cell_type": "code",
   "execution_count": null,
   "id": "aafc3d69-e141-4563-95e2-887638b6cb6c",
   "metadata": {},
   "outputs": [],
   "source": [
    "from typing import Optional, Tuple  # noqa\n",
    "\n",
    "import torch\n",
    "import torch.nn as nn\n",
    "import torch.nn.functional as F\n",
    "from torch.nn import Embedding\n",
    "\n",
    "from controllable_nca.utils import build_conv2d_net\n",
    "\n",
    "\n",
    "class DeepEncoder(nn.Module):\n",
    "    def __init__(self, num_embeddings: int, out_channels: int):\n",
    "        super().__init__()\n",
    "        self.num_embeddings = num_embeddings\n",
    "        self.embedding = Embedding(num_embeddings, 32)\n",
    "        self.encoder = nn.Sequential(\n",
    "            nn.Linear(32, 32),\n",
    "            nn.ReLU(),\n",
    "            nn.Linear(32, 32),\n",
    "            nn.ReLU(),\n",
    "            nn.Linear(32, out_channels, bias=False),\n",
    "        )\n",
    "\n",
    "    def forward(self, indices):\n",
    "        embeddings = self.encoder(self.embedding(indices))\n",
    "        return embeddings\n",
    "\n"
   ]
  },
  {
   "cell_type": "code",
   "execution_count": null,
   "id": "cbc0a687-faec-4bcf-bc73-e8e6159ab8d3",
   "metadata": {},
   "outputs": [],
   "source": [
    "NUM_HIDDEN_CHANNELS = 16"
   ]
  },
  {
   "cell_type": "code",
   "execution_count": 7,
   "id": "22dae6d2-1296-40a9-be54-060078f5a29e",
   "metadata": {},
   "outputs": [],
   "source": [
    "encoder = DeepEncoder(dataset.num_goals(), NUM_HIDDEN_CHANNELS)\n",
    "\n",
    "nca =  ControllableNCA(num_goals=dataset.num_goals(), encoder=encoder, target_shape=dataset.target_size(), living_channel_dim=3, num_hidden_channels=NUM_HIDDEN_CHANNELS, cell_fire_rate=1.0)"
   ]
  },
  {
   "cell_type": "code",
   "execution_count": 8,
   "id": "2044c4ec-7280-4977-890a-2b493ebebd5d",
   "metadata": {},
   "outputs": [
    {
     "data": {
      "text/plain": [
       "torch.Size([16])"
      ]
     },
     "execution_count": 8,
     "metadata": {},
     "output_type": "execute_result"
    }
   ],
   "source": [
    "nca.encode(torch.tensor(1)).size()"
   ]
  },
  {
   "cell_type": "code",
   "execution_count": 9,
   "id": "348e0a9e-75ee-4f1a-9c82-7119e65ab9f1",
   "metadata": {},
   "outputs": [],
   "source": [
    "device = torch.device('cuda')\n",
    "nca = nca.to(device)\n",
    "dataset.to(device)"
   ]
  },
  {
   "cell_type": "code",
   "execution_count": 19,
   "id": "f06a7022-06c9-4c59-bd6c-219ea60be756",
   "metadata": {},
   "outputs": [
    {
     "name": "stdout",
     "output_type": "stream",
     "text": [
      "Writing to tensorboard_logs/2022-02-22 20:09:44.450753\n"
     ]
    }
   ],
   "source": [
    "trainer = MorphingImageNCATrainer(nca, dataset, nca_steps=[48, 64], lr=2e-4, num_damaged=0, damage_radius=3, device=device, pool_size=256)"
   ]
  },
  {
   "cell_type": "code",
   "execution_count": 20,
   "id": "97078f4f-c9ad-4e75-82eb-832a750a2d73",
   "metadata": {},
   "outputs": [
    {
     "data": {
      "text/plain": [
       "ControllableNCA(\n",
       "  (perception_net): Conv2d(21, 63, kernel_size=(3, 3), stride=(1, 1), padding=(1, 1), groups=21, bias=False)\n",
       "  (update_net): UpdateNet(\n",
       "    (out): Sequential(\n",
       "      (0): Conv2d(63, 64, kernel_size=(1, 1), stride=(1, 1))\n",
       "      (1): ReLU()\n",
       "      (2): Conv2d(64, 64, kernel_size=(1, 1), stride=(1, 1))\n",
       "      (3): ReLU()\n",
       "      (4): Conv2d(64, 21, kernel_size=(1, 1), stride=(1, 1), bias=False)\n",
       "    )\n",
       "  )\n",
       "  (encoder): Encoder(\n",
       "    (embedding): Embedding(10, 32)\n",
       "    (encoder): Sequential(\n",
       "      (0): Linear(in_features=32, out_features=32, bias=True)\n",
       "      (1): ReLU()\n",
       "      (2): Linear(in_features=32, out_features=32, bias=True)\n",
       "      (3): ReLU()\n",
       "      (4): Linear(in_features=32, out_features=16, bias=False)\n",
       "    )\n",
       "  )\n",
       ")"
      ]
     },
     "execution_count": 20,
     "metadata": {},
     "output_type": "execute_result"
    }
   ],
   "source": [
    "nca"
   ]
  },
  {
   "cell_type": "code",
   "execution_count": 21,
   "id": "191755f4-3b65-41b6-83af-edebc14ece1f",
   "metadata": {},
   "outputs": [
    {
     "name": "stderr",
     "output_type": "stream",
     "text": [
      "loss:0.003855916438624263--log10loss:-2.413872386241614--perception_net.weight_g\n"
     ]
    },
    {
     "ename": "KeyboardInterrupt",
     "evalue": "",
     "output_type": "error",
     "traceback": [
      "\u001b[0;31m---------------------------------------------------------------------------\u001b[0m",
      "\u001b[0;31mKeyboardInterrupt\u001b[0m                         Traceback (most recent call last)",
      "\u001b[0;32m/tmp/ipykernel_68959/2648354308.py\u001b[0m in \u001b[0;36m<module>\u001b[0;34m\u001b[0m\n\u001b[0;32m----> 1\u001b[0;31m \u001b[0mtrainer\u001b[0m\u001b[0;34m.\u001b[0m\u001b[0mtrain\u001b[0m\u001b[0;34m(\u001b[0m\u001b[0mbatch_size\u001b[0m\u001b[0;34m=\u001b[0m\u001b[0;36m24\u001b[0m\u001b[0;34m,\u001b[0m \u001b[0mepochs\u001b[0m\u001b[0;34m=\u001b[0m\u001b[0;36m50000\u001b[0m\u001b[0;34m)\u001b[0m\u001b[0;34m\u001b[0m\u001b[0;34m\u001b[0m\u001b[0m\n\u001b[0m",
      "\u001b[0;32m~/miniconda3/envs/torch_nca/lib/python3.8/site-packages/controllable_nca-0.1.0-py3.8.egg/controllable_nca/experiments/morphing_image/trainer.py\u001b[0m in \u001b[0;36mtrain\u001b[0;34m(self, batch_size, epochs, *args, **kwargs)\u001b[0m\n\u001b[1;32m    145\u001b[0m             \u001b[0moutputs\u001b[0m\u001b[0;34m,\u001b[0m \u001b[0mloss\u001b[0m\u001b[0;34m,\u001b[0m \u001b[0mmetrics\u001b[0m \u001b[0;34m=\u001b[0m \u001b[0mself\u001b[0m\u001b[0;34m.\u001b[0m\u001b[0mtrain_batch\u001b[0m\u001b[0;34m(\u001b[0m\u001b[0mbatch\u001b[0m\u001b[0;34m,\u001b[0m \u001b[0mtargets\u001b[0m\u001b[0;34m)\u001b[0m\u001b[0;34m\u001b[0m\u001b[0;34m\u001b[0m\u001b[0m\n\u001b[1;32m    146\u001b[0m             \u001b[0;31m# train more\u001b[0m\u001b[0;34m\u001b[0m\u001b[0;34m\u001b[0m\u001b[0;34m\u001b[0m\u001b[0m\n\u001b[0;32m--> 147\u001b[0;31m             \u001b[0moutputs\u001b[0m\u001b[0;34m,\u001b[0m \u001b[0mloss\u001b[0m\u001b[0;34m,\u001b[0m \u001b[0mmetrics\u001b[0m \u001b[0;34m=\u001b[0m \u001b[0mself\u001b[0m\u001b[0;34m.\u001b[0m\u001b[0mtrain_batch\u001b[0m\u001b[0;34m(\u001b[0m\u001b[0moutputs\u001b[0m\u001b[0;34m,\u001b[0m \u001b[0mtargets\u001b[0m\u001b[0;34m)\u001b[0m\u001b[0;34m\u001b[0m\u001b[0;34m\u001b[0m\u001b[0m\n\u001b[0m\u001b[1;32m    148\u001b[0m             \u001b[0;31m# Place outputs back in the pool.\u001b[0m\u001b[0;34m\u001b[0m\u001b[0;34m\u001b[0m\u001b[0;34m\u001b[0m\u001b[0m\n\u001b[1;32m    149\u001b[0m             \u001b[0mself\u001b[0m\u001b[0;34m.\u001b[0m\u001b[0mupdate_pool\u001b[0m\u001b[0;34m(\u001b[0m\u001b[0midxs\u001b[0m\u001b[0;34m,\u001b[0m \u001b[0moutputs\u001b[0m\u001b[0;34m,\u001b[0m \u001b[0mtargets\u001b[0m\u001b[0;34m)\u001b[0m\u001b[0;34m\u001b[0m\u001b[0;34m\u001b[0m\u001b[0m\n",
      "\u001b[0;32m~/miniconda3/envs/torch_nca/lib/python3.8/site-packages/controllable_nca-0.1.0-py3.8.egg/controllable_nca/experiments/morphing_image/trainer.py\u001b[0m in \u001b[0;36mtrain_batch\u001b[0;34m(self, batch, targets)\u001b[0m\n\u001b[1;32m    110\u001b[0m         \u001b[0mloss\u001b[0m \u001b[0;34m=\u001b[0m \u001b[0mself\u001b[0m\u001b[0;34m.\u001b[0m\u001b[0mloss\u001b[0m\u001b[0;34m(\u001b[0m\u001b[0mbatch\u001b[0m\u001b[0;34m,\u001b[0m \u001b[0mtarget_images\u001b[0m\u001b[0;34m)\u001b[0m\u001b[0;34m.\u001b[0m\u001b[0mmean\u001b[0m\u001b[0;34m(\u001b[0m\u001b[0;34m)\u001b[0m\u001b[0;34m\u001b[0m\u001b[0;34m\u001b[0m\u001b[0m\n\u001b[1;32m    111\u001b[0m         \u001b[0mself\u001b[0m\u001b[0;34m.\u001b[0m\u001b[0moptimizer\u001b[0m\u001b[0;34m.\u001b[0m\u001b[0mzero_grad\u001b[0m\u001b[0;34m(\u001b[0m\u001b[0;34m)\u001b[0m\u001b[0;34m\u001b[0m\u001b[0;34m\u001b[0m\u001b[0m\n\u001b[0;32m--> 112\u001b[0;31m         \u001b[0mloss\u001b[0m\u001b[0;34m.\u001b[0m\u001b[0mbackward\u001b[0m\u001b[0;34m(\u001b[0m\u001b[0;34m)\u001b[0m\u001b[0;34m\u001b[0m\u001b[0;34m\u001b[0m\u001b[0m\n\u001b[0m\u001b[1;32m    113\u001b[0m         \u001b[0mtorch\u001b[0m\u001b[0;34m.\u001b[0m\u001b[0mnn\u001b[0m\u001b[0;34m.\u001b[0m\u001b[0mutils\u001b[0m\u001b[0;34m.\u001b[0m\u001b[0mclip_grad_norm_\u001b[0m\u001b[0;34m(\u001b[0m\u001b[0mself\u001b[0m\u001b[0;34m.\u001b[0m\u001b[0mnca\u001b[0m\u001b[0;34m.\u001b[0m\u001b[0mparameters\u001b[0m\u001b[0;34m(\u001b[0m\u001b[0;34m)\u001b[0m\u001b[0;34m,\u001b[0m \u001b[0;36m5.0\u001b[0m\u001b[0;34m)\u001b[0m\u001b[0;34m\u001b[0m\u001b[0;34m\u001b[0m\u001b[0m\n\u001b[1;32m    114\u001b[0m         \u001b[0;31m# for p in self.nca.parameters():\u001b[0m\u001b[0;34m\u001b[0m\u001b[0;34m\u001b[0m\u001b[0;34m\u001b[0m\u001b[0m\n",
      "\u001b[0;32m~/miniconda3/envs/torch_nca/lib/python3.8/site-packages/torch-1.10.1-py3.8-linux-x86_64.egg/torch/_tensor.py\u001b[0m in \u001b[0;36mbackward\u001b[0;34m(self, gradient, retain_graph, create_graph, inputs)\u001b[0m\n\u001b[1;32m    305\u001b[0m                 \u001b[0mcreate_graph\u001b[0m\u001b[0;34m=\u001b[0m\u001b[0mcreate_graph\u001b[0m\u001b[0;34m,\u001b[0m\u001b[0;34m\u001b[0m\u001b[0;34m\u001b[0m\u001b[0m\n\u001b[1;32m    306\u001b[0m                 inputs=inputs)\n\u001b[0;32m--> 307\u001b[0;31m         \u001b[0mtorch\u001b[0m\u001b[0;34m.\u001b[0m\u001b[0mautograd\u001b[0m\u001b[0;34m.\u001b[0m\u001b[0mbackward\u001b[0m\u001b[0;34m(\u001b[0m\u001b[0mself\u001b[0m\u001b[0;34m,\u001b[0m \u001b[0mgradient\u001b[0m\u001b[0;34m,\u001b[0m \u001b[0mretain_graph\u001b[0m\u001b[0;34m,\u001b[0m \u001b[0mcreate_graph\u001b[0m\u001b[0;34m,\u001b[0m \u001b[0minputs\u001b[0m\u001b[0;34m=\u001b[0m\u001b[0minputs\u001b[0m\u001b[0;34m)\u001b[0m\u001b[0;34m\u001b[0m\u001b[0;34m\u001b[0m\u001b[0m\n\u001b[0m\u001b[1;32m    308\u001b[0m \u001b[0;34m\u001b[0m\u001b[0m\n\u001b[1;32m    309\u001b[0m     \u001b[0;32mdef\u001b[0m \u001b[0mregister_hook\u001b[0m\u001b[0;34m(\u001b[0m\u001b[0mself\u001b[0m\u001b[0;34m,\u001b[0m \u001b[0mhook\u001b[0m\u001b[0;34m)\u001b[0m\u001b[0;34m:\u001b[0m\u001b[0;34m\u001b[0m\u001b[0;34m\u001b[0m\u001b[0m\n",
      "\u001b[0;32m~/miniconda3/envs/torch_nca/lib/python3.8/site-packages/torch-1.10.1-py3.8-linux-x86_64.egg/torch/autograd/__init__.py\u001b[0m in \u001b[0;36mbackward\u001b[0;34m(tensors, grad_tensors, retain_graph, create_graph, grad_variables, inputs)\u001b[0m\n\u001b[1;32m    152\u001b[0m         \u001b[0mretain_graph\u001b[0m \u001b[0;34m=\u001b[0m \u001b[0mcreate_graph\u001b[0m\u001b[0;34m\u001b[0m\u001b[0;34m\u001b[0m\u001b[0m\n\u001b[1;32m    153\u001b[0m \u001b[0;34m\u001b[0m\u001b[0m\n\u001b[0;32m--> 154\u001b[0;31m     Variable._execution_engine.run_backward(\n\u001b[0m\u001b[1;32m    155\u001b[0m         \u001b[0mtensors\u001b[0m\u001b[0;34m,\u001b[0m \u001b[0mgrad_tensors_\u001b[0m\u001b[0;34m,\u001b[0m \u001b[0mretain_graph\u001b[0m\u001b[0;34m,\u001b[0m \u001b[0mcreate_graph\u001b[0m\u001b[0;34m,\u001b[0m \u001b[0minputs\u001b[0m\u001b[0;34m,\u001b[0m\u001b[0;34m\u001b[0m\u001b[0;34m\u001b[0m\u001b[0m\n\u001b[1;32m    156\u001b[0m         allow_unreachable=True, accumulate_grad=True)  # allow_unreachable flag\n",
      "\u001b[0;31mKeyboardInterrupt\u001b[0m: "
     ]
    }
   ],
   "source": [
    "trainer.train(batch_size=24, epochs=50000)"
   ]
  },
  {
   "cell_type": "code",
   "execution_count": 31,
   "id": "fd49fe14-8070-4ee6-b381-ee51a7804219",
   "metadata": {},
   "outputs": [],
   "source": [
    "# nca.save(\"saved_models/morphing_new_100k_size_32.pt\")"
   ]
  },
  {
   "cell_type": "code",
   "execution_count": 23,
   "id": "fca43ee4-18b2-42d1-9d5e-7f1948ba4895",
   "metadata": {},
   "outputs": [],
   "source": [
    "from controllable_nca.experiments.morphing_image.visualizer import MorphingImageVisualizer"
   ]
  },
  {
   "cell_type": "code",
   "execution_count": 11,
   "id": "989b51d8-cb3d-45ac-8d91-444ecb2ac4bf",
   "metadata": {},
   "outputs": [],
   "source": [
    "# nca.load(\"saved_models/morphing_50k.pt\")"
   ]
  },
  {
   "cell_type": "code",
   "execution_count": 24,
   "id": "17059360-f1f5-4a6d-8658-13c69956bd66",
   "metadata": {},
   "outputs": [],
   "source": [
    "from threading import Event, Thread\n",
    "\n",
    "import cv2\n",
    "import numpy as np\n",
    "import torch\n",
    "from einops import rearrange\n",
    "from ipycanvas import Canvas, hold_canvas  # noqa\n",
    "from ipywidgets import Button, HBox, VBox\n",
    "\n",
    "from controllable_nca.utils import create_2d_circular_mask, rgb\n",
    "\n",
    "\n",
    "def to_numpy_rgb(x, use_rgb=False):\n",
    "    return rearrange(\n",
    "        np.squeeze(rgb(x, use_rgb).detach().cpu().numpy()), \"c x y -> x y c\"\n",
    "    )\n",
    "\n",
    "\n",
    "class MorphingImageVisualizer:\n",
    "    def __init__(\n",
    "        self,\n",
    "        trainer,\n",
    "        image_size,\n",
    "        rgb: bool = False,\n",
    "        canvas_scale=5,\n",
    "        damage_radius: int = 5,\n",
    "    ):\n",
    "        self.trainer = trainer\n",
    "        self.current_state = None\n",
    "        self.current_embedding = None\n",
    "\n",
    "        self.image_size = image_size\n",
    "        self.rgb = rgb\n",
    "        self.canvas_scale = canvas_scale\n",
    "        self.canvas_size = self.image_size * self.canvas_scale\n",
    "\n",
    "        self.canvas = Canvas(width=self.canvas_size, height=self.canvas_size)\n",
    "        self.canvas.on_mouse_down(self.handle_mouse_down)\n",
    "        self.stopped = Event()\n",
    "\n",
    "        self.current_embedding = torch.tensor(0, device=self.trainer.device)\n",
    "\n",
    "        self.device = self.trainer.device\n",
    "        self.damage_radius = damage_radius\n",
    "        self.current_state = self.trainer.nca.generate_seed(1).to(self.device)\n",
    "\n",
    "        def button_fn(class_num):\n",
    "            def start(btn):\n",
    "                self.current_embedding = torch.tensor(class_num, device=self.trainer.device)\n",
    "                if self.stopped.isSet():\n",
    "                    self.stopped.clear()\n",
    "                    Thread(target=self.loop).start()\n",
    "\n",
    "            return start\n",
    "\n",
    "        button_list = []\n",
    "        for i in range(len(self.trainer.target_dataset.EMOJI)):\n",
    "            button_list.append(Button(description=self.trainer.target_dataset.EMOJI[i]))\n",
    "            button_list[-1].on_click(button_fn(i))\n",
    "\n",
    "        self.vbox = VBox(button_list)\n",
    "\n",
    "        self.stop_btn = Button(description=\"Stop\")\n",
    "\n",
    "        def stop(btn):\n",
    "            if not self.stopped.isSet():\n",
    "                self.stopped.set()\n",
    "\n",
    "        self.stop_btn.on_click(stop)\n",
    "\n",
    "    def handle_mouse_down(self, xpos, ypos):\n",
    "        in_x = int(xpos / self.canvas_scale)\n",
    "        in_y = int(ypos / self.canvas_scale)\n",
    "\n",
    "        mask = create_2d_circular_mask(\n",
    "            self.image_size,\n",
    "            self.image_size,\n",
    "            (in_x, in_y),\n",
    "            radius=self.damage_radius,\n",
    "        )\n",
    "        self.current_state[0][:, mask] *= 0.0\n",
    "\n",
    "    def draw_image(self, rgb):\n",
    "        with hold_canvas(self.canvas):\n",
    "            rgb = np.squeeze(rearrange(rgb, \"b c w h -> b w h c\"))\n",
    "            self.canvas.clear()  # Clear the old animation step\n",
    "            self.canvas.put_image_data(\n",
    "                cv2.resize(\n",
    "                    rgb * 255.0,\n",
    "                    (self.canvas_size, self.canvas_size),\n",
    "                    interpolation=cv2.INTER_NEAREST,\n",
    "                ),\n",
    "                0,\n",
    "                0,\n",
    "            )\n",
    "\n",
    "    def loop(self):\n",
    "        with torch.no_grad():\n",
    "            self.current_state = self.trainer.nca.generate_seed(1).to(self.device)\n",
    "            while not self.stopped.wait(0.02):  # the first call is in `interval` secs\n",
    "                # update_particle_locations()\n",
    "                self.draw_image(self.trainer.to_rgb(self.current_state))\n",
    "                self.current_state = self.trainer.nca.grow(\n",
    "                    self.current_state, 1, self.current_embedding\n",
    "                )\n",
    "\n",
    "    def visualize(self):\n",
    "        Thread(target=self.loop).start()\n",
    "        display(self.canvas, HBox([self.stop_btn, self.vbox]))  # noqa\n"
   ]
  },
  {
   "cell_type": "code",
   "execution_count": 29,
   "id": "332fb42a-c2c5-4259-be16-844b7220a1da",
   "metadata": {},
   "outputs": [],
   "source": [
    "viz = MorphingImageVisualizer(trainer, 100)"
   ]
  },
  {
   "cell_type": "code",
   "execution_count": 30,
   "id": "bd22d9cf-a084-40fc-a675-5975d52963ba",
   "metadata": {},
   "outputs": [
    {
     "data": {
      "application/vnd.jupyter.widget-view+json": {
       "model_id": "513433dcc00643319da97ee8f8f8c3e2",
       "version_major": 2,
       "version_minor": 0
      },
      "text/plain": [
       "Canvas(width=500)"
      ]
     },
     "metadata": {},
     "output_type": "display_data"
    },
    {
     "data": {
      "application/vnd.jupyter.widget-view+json": {
       "model_id": "c11d2cba431f46bfa4c2b4da4a1125fc",
       "version_major": 2,
       "version_minor": 0
      },
      "text/plain": [
       "HBox(children=(Button(description='Stop', style=ButtonStyle()), VBox(children=(Button(description='🦎', style=B…"
      ]
     },
     "metadata": {},
     "output_type": "display_data"
    }
   ],
   "source": [
    "viz.visualize()"
   ]
  }
 ],
 "metadata": {
  "kernelspec": {
   "display_name": "Python [conda env:torch_nca] *",
   "language": "python",
   "name": "conda-env-torch_nca-py"
  },
  "language_info": {
   "codemirror_mode": {
    "name": "ipython",
    "version": 3
   },
   "file_extension": ".py",
   "mimetype": "text/x-python",
   "name": "python",
   "nbconvert_exporter": "python",
   "pygments_lexer": "ipython3",
   "version": "3.8.0"
  }
 },
 "nbformat": 4,
 "nbformat_minor": 5
}
