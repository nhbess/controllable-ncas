{
 "cells": [
  {
   "cell_type": "code",
   "execution_count": 1,
   "id": "2e4d518d-1a9f-42db-8e17-56669c8edef7",
   "metadata": {},
   "outputs": [],
   "source": [
    "import matplotlib.pyplot as plt\n",
    "import torch\n",
    "from einops import rearrange\n",
    "\n",
    "from controllable_nca.dataset import MultiClass2DDataset\n",
    "from controllable_nca.utils import load_emoji, rgb\n",
    "import torch.nn.functional as F\n",
    "\n",
    "class EmojiDataset(MultiClass2DDataset):\n",
    "    # EMOJI = '🦎😀💥'\n",
    "    EMOJI = \"🦎\"\n",
    "\n",
    "    def __init__(self, image_size=48, padding=16):\n",
    "        center = F.pad(\n",
    "            torch.stack(\n",
    "                [load_emoji(e, image_size) for e in EmojiDataset.EMOJI], dim=0\n",
    "            ),\n",
    "            (padding // 2, padding // 2, padding // 2, padding // 2, 0, 0)\n",
    "        )\n",
    "        left = F.pad(center, (0, padding, 0, 0, 0, 0, 0, 0))[:, :, :, padding:]\n",
    "        right = F.pad(center, (padding, 0, 0, 0, 0, 0, 0, 0))[:, :, :, :-padding]\n",
    "        emojis = torch.stack([center,left,right]).squeeze()\n",
    "        self.padding = padding\n",
    "        targets = torch.arange(emojis.size(0))\n",
    "        super(EmojiDataset, self).__init__(emojis, targets, use_one_hot=True)\n",
    "\n",
    "    def visualize(self, idx=0):\n",
    "        self.plot_img(self.x[idx : idx + 1])\n",
    "\n",
    "    def plot_img(self, img):\n",
    "        with torch.no_grad():\n",
    "            rgb_image = rgb(img, False).squeeze().detach().cpu().numpy()\n",
    "        rgb_image = rearrange(rgb_image, \"c w h -> w h c\")\n",
    "        _ = plt.imshow(rgb_image)\n",
    "        plt.show()\n"
   ]
  },
  {
   "cell_type": "code",
   "execution_count": 2,
   "id": "8a119735-63aa-40bb-9bd6-e60cda54ab87",
   "metadata": {},
   "outputs": [],
   "source": [
    "dataset = EmojiDataset()"
   ]
  },
  {
   "cell_type": "code",
   "execution_count": 3,
   "id": "f3ceb1f9-ff20-4f7f-9a7a-9416118734b7",
   "metadata": {},
   "outputs": [],
   "source": [
    "import torch.nn.functional as F"
   ]
  },
  {
   "cell_type": "code",
   "execution_count": 4,
   "id": "6648cd84-9f1e-4835-b86f-2e737c3ce5eb",
   "metadata": {},
   "outputs": [
    {
     "data": {
      "image/png": "[encoded data removed]",
      "text/plain": [
       "<Figure size 432x288 with 1 Axes>"
      ]
     },
     "metadata": {
      "needs_background": "light"
     },
     "output_type": "display_data"
    }
   ],
   "source": [
    "dataset.plot_img(dataset[0][0])"
   ]
  },
  {
   "cell_type": "code",
   "execution_count": 5,
   "id": "cb60a8f6-225e-45fb-9d69-62210b4a8b59",
   "metadata": {},
   "outputs": [
    {
     "data": {
      "image/png": "[encoded data removed]",
      "text/plain": [
       "<Figure size 432x288 with 1 Axes>"
      ]
     },
     "metadata": {
      "needs_background": "light"
     },
     "output_type": "display_data"
    }
   ],
   "source": [
    "dataset.plot_img(dataset[1][0])"
   ]
  },
  {
   "cell_type": "code",
   "execution_count": 6,
   "id": "51864f5c-9165-4e1a-8620-289188f9b7e5",
   "metadata": {},
   "outputs": [
    {
     "data": {
      "image/png": "[encoded data removed]",
      "text/plain": [
       "<Figure size 432x288 with 1 Axes>"
      ]
     },
     "metadata": {
      "needs_background": "light"
     },
     "output_type": "display_data"
    }
   ],
   "source": [
    "dataset.plot_img(dataset[2][0])"
   ]
  },
  {
   "cell_type": "code",
   "execution_count": 7,
   "id": "b5c35874-8c8c-4962-8a1b-1924fef9c8ad",
   "metadata": {},
   "outputs": [],
   "source": [
    "from controllable_nca.image.nca import ControllableImageNCA"
   ]
  },
  {
   "cell_type": "code",
   "execution_count": 8,
   "id": "08ebc727-44b1-4234-b4d7-519fec5deaa0",
   "metadata": {},
   "outputs": [],
   "source": [
    "from torch.nn import Embedding\n",
    "import torch.nn as nn"
   ]
  },
  {
   "cell_type": "code",
   "execution_count": 9,
   "id": "a7dd08e0-9ec4-489c-8ee3-ee5c601f8b34",
   "metadata": {},
   "outputs": [],
   "source": [
    "class Encoder(nn.Module):\n",
    "    def __init__(self, num_embeddings: int, out_channels: int, embedding_dim: int = 32):\n",
    "        super().__init__()\n",
    "        self.num_embeddings = num_embeddings\n",
    "        self.embedding_dim = embedding_dim\n",
    "        self.embedding = Embedding(num_embeddings, embedding_dim)\n",
    "        self.embedding_encoder = nn.Sequential(\n",
    "            nn.Linear(embedding_dim, 64),\n",
    "            nn.ReLU(),\n",
    "            nn.Linear(64,64),\n",
    "            nn.ReLU(),\n",
    "            nn.Linear(64, out_channels, bias=False)\n",
    "        )\n",
    "    \n",
    "    def forward(self, one_hot_encoding: torch.Tensor):\n",
    "        indices = torch.argmax(one_hot_encoding, -1)\n",
    "        embeddings = self.embedding(indices)\n",
    "        return self.embedding_encoder(embeddings)"
   ]
  },
  {
   "cell_type": "code",
   "execution_count": 10,
   "id": "01889a7d-b749-4835-abc9-334a31fb1b9b",
   "metadata": {},
   "outputs": [],
   "source": [
    "NUM_HIDDEN_CHANNELS = 8\n",
    "\n",
    "encoder = Encoder(dataset.num_classes, NUM_HIDDEN_CHANNELS, 32)"
   ]
  },
  {
   "cell_type": "code",
   "execution_count": 11,
   "id": "49b1ee39-e819-49c4-90e4-10969d7f63b6",
   "metadata": {},
   "outputs": [],
   "source": [
    "nca =  ControllableImageNCA(target_shape=dataset.target_size(), encoder = encoder,living_channel_dim=3, num_hidden_channels=8)"
   ]
  },
  {
   "cell_type": "code",
   "execution_count": 12,
   "id": "e54d5ec7-e89a-4438-9c9c-373330dc1d1c",
   "metadata": {},
   "outputs": [
    {
     "data": {
      "text/plain": [
       "13"
      ]
     },
     "execution_count": 12,
     "metadata": {},
     "output_type": "execute_result"
    }
   ],
   "source": [
    "nca.num_channels"
   ]
  },
  {
   "cell_type": "code",
   "execution_count": 13,
   "id": "c95b3016-e527-4271-9412-e61d3fb1734d",
   "metadata": {},
   "outputs": [],
   "source": [
    "device = torch.device('cuda')\n",
    "dataset.to(device)\n",
    "nca = nca.to(device)"
   ]
  },
  {
   "cell_type": "code",
   "execution_count": 14,
   "id": "2c2126d5-fa0a-4077-86e9-6418fc859246",
   "metadata": {},
   "outputs": [],
   "source": [
    "from controllable_nca.image.trainer import ControllableNCAImageTrainer"
   ]
  },
  {
   "cell_type": "code",
   "execution_count": 15,
   "id": "9e8c4862-473f-467e-a706-c75dc333e2ac",
   "metadata": {},
   "outputs": [
    {
     "name": "stdout",
     "output_type": "stream",
     "text": [
      "Writing to tensorboard_logs/2022-02-08 17:58:27.248792\n"
     ]
    }
   ],
   "source": [
    "trainer = ControllableNCAImageTrainer(nca, dataset, nca_steps=[48, 96], lr=1e-3, num_damaged=0, damage_radius=3, device=device, pool_size=256)"
   ]
  },
  {
   "cell_type": "code",
   "execution_count": 16,
   "id": "8095e0c7-d6f6-4674-928b-e0daf83c152a",
   "metadata": {},
   "outputs": [
    {
     "name": "stderr",
     "output_type": "stream",
     "text": [
      "loss:0.010547536425292492--log10loss:-\n"
     ]
    },
    {
     "ename": "KeyboardInterrupt",
     "evalue": "",
     "output_type": "error",
     "traceback": [
      "\u001b[0;31m---------------------------------------------------------------------------\u001b[0m",
      "\u001b[0;31mKeyboardInterrupt\u001b[0m                         Traceback (most recent call last)",
      "\u001b[0;32m/tmp/ipykernel_76630/2110812107.py\u001b[0m in \u001b[0;36m<module>\u001b[0;34m\u001b[0m\n\u001b[0;32m----> 1\u001b[0;31m \u001b[0mtrainer\u001b[0m\u001b[0;34m.\u001b[0m\u001b[0mtrain\u001b[0m\u001b[0;34m(\u001b[0m\u001b[0mbatch_size\u001b[0m\u001b[0;34m=\u001b[0m\u001b[0;36m5\u001b[0m\u001b[0;34m,\u001b[0m \u001b[0mepochs\u001b[0m\u001b[0;34m=\u001b[0m\u001b[0;36m50000\u001b[0m\u001b[0;34m)\u001b[0m\u001b[0;34m\u001b[0m\u001b[0;34m\u001b[0m\u001b[0m\n\u001b[0m",
      "\u001b[0;32m~/anaconda3/envs/pycanvas/lib/python3.9/site-packages/controllable_nca-0.1.0-py3.9.egg/controllable_nca/image/trainer.py\u001b[0m in \u001b[0;36mtrain\u001b[0;34m(self, batch_size, epochs, *args, **kwargs)\u001b[0m\n\u001b[1;32m    154\u001b[0m                 )\n\u001b[1;32m    155\u001b[0m \u001b[0;34m\u001b[0m\u001b[0m\n\u001b[0;32m--> 156\u001b[0;31m             \u001b[0moutputs\u001b[0m\u001b[0;34m,\u001b[0m \u001b[0mloss\u001b[0m\u001b[0;34m,\u001b[0m \u001b[0mmetrics\u001b[0m \u001b[0;34m=\u001b[0m \u001b[0mself\u001b[0m\u001b[0;34m.\u001b[0m\u001b[0mtrain_batch\u001b[0m\u001b[0;34m(\u001b[0m\u001b[0mbatch\u001b[0m\u001b[0;34m,\u001b[0m \u001b[0mtargets\u001b[0m\u001b[0;34m)\u001b[0m\u001b[0;34m\u001b[0m\u001b[0;34m\u001b[0m\u001b[0m\n\u001b[0m\u001b[1;32m    157\u001b[0m             \u001b[0;31m# train more\u001b[0m\u001b[0;34m\u001b[0m\u001b[0;34m\u001b[0m\u001b[0m\n\u001b[1;32m    158\u001b[0m             \u001b[0moutputs\u001b[0m\u001b[0;34m,\u001b[0m \u001b[0mloss\u001b[0m\u001b[0;34m,\u001b[0m \u001b[0mmetrics\u001b[0m \u001b[0;34m=\u001b[0m \u001b[0mself\u001b[0m\u001b[0;34m.\u001b[0m\u001b[0mtrain_batch\u001b[0m\u001b[0;34m(\u001b[0m\u001b[0moutputs\u001b[0m\u001b[0;34m,\u001b[0m \u001b[0mtargets\u001b[0m\u001b[0;34m)\u001b[0m\u001b[0;34m\u001b[0m\u001b[0;34m\u001b[0m\u001b[0m\n",
      "\u001b[0;32m~/anaconda3/envs/pycanvas/lib/python3.9/site-packages/controllable_nca-0.1.0-py3.9.egg/controllable_nca/image/trainer.py\u001b[0m in \u001b[0;36mtrain_batch\u001b[0;34m(self, batch, targets)\u001b[0m\n\u001b[1;32m    130\u001b[0m         \u001b[0;32mfor\u001b[0m \u001b[0mn\u001b[0m\u001b[0;34m,\u001b[0m \u001b[0mW\u001b[0m \u001b[0;32min\u001b[0m \u001b[0mself\u001b[0m\u001b[0;34m.\u001b[0m\u001b[0mnca\u001b[0m\u001b[0;34m.\u001b[0m\u001b[0mnamed_parameters\u001b[0m\u001b[0;34m(\u001b[0m\u001b[0;34m)\u001b[0m\u001b[0;34m:\u001b[0m\u001b[0;34m\u001b[0m\u001b[0;34m\u001b[0m\u001b[0m\n\u001b[1;32m    131\u001b[0m             \u001b[0;32mif\u001b[0m \u001b[0mW\u001b[0m\u001b[0;34m.\u001b[0m\u001b[0mgrad\u001b[0m \u001b[0;32mis\u001b[0m \u001b[0;32mnot\u001b[0m \u001b[0;32mNone\u001b[0m\u001b[0;34m:\u001b[0m\u001b[0;34m\u001b[0m\u001b[0;34m\u001b[0m\u001b[0m\n\u001b[0;32m--> 132\u001b[0;31m                 \u001b[0mgrad_dict\u001b[0m\u001b[0;34m[\u001b[0m\u001b[0;34m\"{}_grad\"\u001b[0m\u001b[0;34m.\u001b[0m\u001b[0mformat\u001b[0m\u001b[0;34m(\u001b[0m\u001b[0mn\u001b[0m\u001b[0;34m)\u001b[0m\u001b[0;34m]\u001b[0m \u001b[0;34m=\u001b[0m \u001b[0mfloat\u001b[0m\u001b[0;34m(\u001b[0m\u001b[0mtorch\u001b[0m\u001b[0;34m.\u001b[0m\u001b[0msum\u001b[0m\u001b[0;34m(\u001b[0m\u001b[0mW\u001b[0m\u001b[0;34m.\u001b[0m\u001b[0mgrad\u001b[0m\u001b[0;34m)\u001b[0m\u001b[0;34m.\u001b[0m\u001b[0mitem\u001b[0m\u001b[0;34m(\u001b[0m\u001b[0;34m)\u001b[0m\u001b[0;34m)\u001b[0m\u001b[0;34m\u001b[0m\u001b[0;34m\u001b[0m\u001b[0m\n\u001b[0m\u001b[1;32m    133\u001b[0m \u001b[0;34m\u001b[0m\u001b[0m\n\u001b[1;32m    134\u001b[0m         return (\n",
      "\u001b[0;31mKeyboardInterrupt\u001b[0m: "
     ]
    }
   ],
   "source": [
    "trainer.train(batch_size=5, epochs=50000)"
   ]
  }
 ],
 "metadata": {
  "kernelspec": {
   "display_name": "Python [conda env:pycanvas] *",
   "language": "python",
   "name": "conda-env-pycanvas-py"
  },
  "language_info": {
   "codemirror_mode": {
    "name": "ipython",
    "version": 3
   },
   "file_extension": ".py",
   "mimetype": "text/x-python",
   "name": "python",
   "nbconvert_exporter": "python",
   "pygments_lexer": "ipython3",
   "version": "3.9.7"
  }
 },
 "nbformat": 4,
 "nbformat_minor": 5
}
